{
 "cells": [
  {
   "cell_type": "code",
   "execution_count": 262,
   "metadata": {},
   "outputs": [],
   "source": [
    "input_1 = 'a_example.txt'\n",
    "\n",
    "with open(input_1) as f:\n",
    "    content = f.readlines()\n",
    "\n",
    "first_line = content[0].split()\n",
    "\n",
    "books = int(first_line[0])\n",
    "libraries = int(first_line[1])\n",
    "number_of_days = int(first_line[2])\n",
    "\n",
    "all_scores_for_books = list(map(int, content[1].split()))\n",
    "\n",
    "library_info_books_amount = []\n",
    "library_info_sign_up = []\n",
    "library_info_books_per_day = []\n",
    "\n",
    "library_info_books = []\n",
    "\n",
    "content = content[2:]\n",
    "\n",
    "for index_library in range(0, len(content) - 1, 2):\n",
    "    split_info = list(map(int, content[index_library].split()))\n",
    "    library_info_books_amount.append(split_info[0])\n",
    "    library_info_sign_up.append(split_info[1])\n",
    "    library_info_books_per_day.append(split_info[2]) \n",
    "    \n",
    "    split_info_2 = list(map(int, content[index_library + 1].split()))\n",
    "    library_info_books.append(split_info_2)"
   ]
  },
  {
   "cell_type": "code",
   "execution_count": 257,
   "metadata": {},
   "outputs": [],
   "source": [
    "books_in_which_library = {}\n",
    "\n",
    "for lib_index, library in enumerate(library_info_books):\n",
    "    for current_book_in_library in library:\n",
    "        if current_book_in_library not in books_in_which_library:\n",
    "            books_in_which_library[current_book_in_library] = [lib_index]\n",
    "        else:\n",
    "            books_in_which_library[current_book_in_library].append(lib_index)       "
   ]
  },
  {
   "cell_type": "code",
   "execution_count": 258,
   "metadata": {},
   "outputs": [],
   "source": [
    "book_score, index_book_sorted = zip(*sorted(zip(all_scores_for_books, range(0, len(all_scores_for_books))), reverse=True))"
   ]
  },
  {
   "cell_type": "code",
   "execution_count": 259,
   "metadata": {},
   "outputs": [],
   "source": [
    "# Get the libraries that can send the most books\n",
    "\n",
    "libraries_with_highest_book_amount, index_of_libraries_with_highest_book_amount = zip(*sorted(zip(library_info_books_amount, range(0, len(library_info_books_amount))), reverse=True))"
   ]
  },
  {
   "cell_type": "code",
   "execution_count": 260,
   "metadata": {},
   "outputs": [],
   "source": [
    "current_active_libaries = set()\n",
    "current_library_sign_up_order = []\n",
    "next_active_library_day = 0\n",
    "next_active_library_id = None\n",
    "current_index_of_highest_library_score = 0\n",
    "\n",
    "library_to_add = 0\n",
    "add_to_set = False\n",
    "\n",
    "books_sent = set()\n",
    "libraries_with_sent_books = {}\n",
    "\n",
    "\n",
    "for current_day in range(0, number_of_days):\n",
    "    \n",
    "    for library in range(0, libraries):\n",
    "        days_remaining = (number_of_days - current_day) - library_info_sign_up[library]\n",
    "        n = days_remaining * library_info_books_per_day[library]\n",
    "        \n",
    "        all_books_of_library = library_info_books_amount[library]\n",
    "        \n",
    "        \n",
    "        \n",
    "    \n",
    "    if add_to_set:\n",
    "        current_active_libaries.add(library_to_add)\n",
    "        add_to_set = False\n",
    "        \n",
    "    # Decide which libraries are active \n",
    "    if next_active_library_id is None:\n",
    "            # All libraries are added\n",
    "        if current_index_of_highest_library_score < libraries:\n",
    "            next_active_library_id = index_of_libraries_with_highest_book_amount[current_index_of_highest_library_score]\n",
    "            next_active_library_day += library_info_sign_up[next_active_library_id]\n",
    "            current_index_of_highest_library_score += 1\n",
    "            current_library_sign_up_order.append(next_active_library_id)\n",
    "\n",
    "    if next_active_library_day == current_day:\n",
    "        library_to_add = next_active_library_id\n",
    "        next_active_library_id = None\n",
    "        add_to_set = True\n",
    "        \n",
    "            \n",
    "    for library_active in current_active_libaries:\n",
    "        # Get the biggest book\n",
    "        books_of_library = set(library_info_books[library_active])\n",
    "        number_of_books_the_library_can_set = library_info_books_per_day[library_active]\n",
    "        \n",
    "        books_that_can_be_sent = books_of_library - books_sent\n",
    "        \n",
    "        if len(books_that_can_be_sent) == 0:\n",
    "            continue\n",
    "        \n",
    "        scores_for_books_that_can_be_sent = [all_scores_for_books[b] for b in books_that_can_be_sent]\n",
    "        temp_1, index_1_temp = zip(*sorted(zip(scores_for_books_that_can_be_sent, list(books_that_can_be_sent)), reverse=True))\n",
    "        \n",
    "        current_books_sent = 0\n",
    "        \n",
    "        for book_that_can_be_sent in index_1_temp:\n",
    "            if current_books_sent == number_of_books_the_library_can_set:\n",
    "                break\n",
    "                \n",
    "            books_sent.add(book_that_can_be_sent)\n",
    "            \n",
    "            if library_active not in libraries_with_sent_books:\n",
    "                libraries_with_sent_books[library_active] = [book_that_can_be_sent]\n",
    "            else:\n",
    "                libraries_with_sent_books[library_active].append(book_that_can_be_sent)\n",
    "                \n",
    "            current_books_sent += 1\n"
   ]
  },
  {
   "cell_type": "code",
   "execution_count": 261,
   "metadata": {},
   "outputs": [],
   "source": [
    "with open('output.txt', 'w') as file:\n",
    "    file.write(str(len(libraries_with_sent_books)) + '\\n')\n",
    "    \n",
    "    for signed_up_library in current_library_sign_up_order:\n",
    "        if signed_up_library not in libraries_with_sent_books:\n",
    "            continue\n",
    "            \n",
    "        file.write(str(signed_up_library) + ' ' + str(len(libraries_with_sent_books[signed_up_library])) + '\\n')\n",
    "        file.write(' '.join(map(str, libraries_with_sent_books[signed_up_library])) + '\\n')"
   ]
  },
  {
   "cell_type": "code",
   "execution_count": null,
   "metadata": {},
   "outputs": [],
   "source": []
  },
  {
   "cell_type": "code",
   "execution_count": null,
   "metadata": {},
   "outputs": [],
   "source": []
  },
  {
   "cell_type": "code",
   "execution_count": null,
   "metadata": {},
   "outputs": [],
   "source": []
  }
 ],
 "metadata": {
  "kernelspec": {
   "display_name": "Python 3",
   "language": "python",
   "name": "python3"
  },
  "language_info": {
   "codemirror_mode": {
    "name": "ipython",
    "version": 3
   },
   "file_extension": ".py",
   "mimetype": "text/x-python",
   "name": "python",
   "nbconvert_exporter": "python",
   "pygments_lexer": "ipython3",
   "version": "3.7.4"
  }
 },
 "nbformat": 4,
 "nbformat_minor": 2
}
